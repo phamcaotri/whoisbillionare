{
 "cells": [
  {
   "cell_type": "code",
   "execution_count": 2,
   "metadata": {},
   "outputs": [
    {
     "name": "stdout",
     "output_type": "stream",
     "text": [
      "[A 100, B 200, C 300, D 400, E 500, F 600]\n"
     ]
    }
   ],
   "source": [
    "from typing import *\n",
    "\n",
    "class Estate:\n",
    "    def __init__(\n",
    "            self, \n",
    "            name: str, \n",
    "            price: int\n",
    "        ):\n",
    "        self.name = name\n",
    "        self.price = price\n",
    "\n",
    "    def __repr__(self):\n",
    "        return f\"{self.name} {self.price}\"\n",
    "\n",
    "class Board:\n",
    "    def __init__(\n",
    "            self, \n",
    "            estates: List[Estate]\n",
    "        ):\n",
    "        self.estates = estates\n",
    "\n",
    "    def __repr__(self):\n",
    "        return f\"{self.estates}\"\n",
    "\n",
    "class Player:\n",
    "    def __init__(\n",
    "            self, \n",
    "            name: str, \n",
    "            money: int, \n",
    "            location: int = 0\n",
    "        ):\n",
    "        self.name = name\n",
    "        self.money = money\n",
    "        self.location = location\n",
    "\n",
    "    def __repr__(self):\n",
    "        return f\"{self.name} {self.money}\"\n",
    "\n",
    "class Game:\n",
    "    def __init__(self, board: Board, players: List[Player]):\n",
    "        self.board = board\n",
    "        self.players = players\n",
    "\n",
    "    def __repr__(self):\n",
    "        return f\"{self.board} {self.players}\"\n",
    "    \n",
    "estates_list = [\n",
    "    Estate(\"A\", 100),\n",
    "    Estate(\"B\", 200),\n",
    "    Estate(\"C\", 300),\n",
    "    Estate(\"D\", 400),\n",
    "    Estate(\"E\", 500),\n",
    "    Estate(\"F\", 600),\n",
    "]\n",
    "\n",
    "if __name__ == \"__main__\":\n",
    "    board = Board(estates_list)\n",
    "    print(board)"
   ]
  }
 ],
 "metadata": {
  "kernelspec": {
   "display_name": "Python 3",
   "language": "python",
   "name": "python3"
  },
  "language_info": {
   "codemirror_mode": {
    "name": "ipython",
    "version": 3
   },
   "file_extension": ".py",
   "mimetype": "text/x-python",
   "name": "python",
   "nbconvert_exporter": "python",
   "pygments_lexer": "ipython3",
   "version": "3.11.5"
  }
 },
 "nbformat": 4,
 "nbformat_minor": 2
}
