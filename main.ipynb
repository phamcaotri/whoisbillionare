{
 "cells": [
  {
   "cell_type": "code",
   "execution_count": 1,
   "metadata": {},
   "outputs": [
    {
     "name": "stdout",
     "output_type": "stream",
     "text": [
      "[A 100, B 200]\n"
     ]
    }
   ],
   "source": [
    "from typing import *\n",
    "\n",
    "class Estate:\n",
    "    def __init__(self, name: str, price: int):\n",
    "        self.name = name\n",
    "        self.price = price\n",
    "\n",
    "    def __repr__(self):\n",
    "        return f\"{self.name} {self.price}\"\n",
    "\n",
    "class Board:\n",
    "    def __init__(self, estates: List[Estate]):\n",
    "        self.estates = estates\n",
    "\n",
    "    def __repr__(self):\n",
    "        return f\"{self.estates}\"\n",
    "    \n",
    "\n",
    "\n",
    "if __name__ == \"__main__\":\n",
    "    estates = [Estate(\"A\", 100), Estate(\"B\", 200)]\n",
    "    board = Board(estates)\n",
    "    print(board)"
   ]
  }
 ],
 "metadata": {
  "kernelspec": {
   "display_name": "Python 3",
   "language": "python",
   "name": "python3"
  },
  "language_info": {
   "codemirror_mode": {
    "name": "ipython",
    "version": 3
   },
   "file_extension": ".py",
   "mimetype": "text/x-python",
   "name": "python",
   "nbconvert_exporter": "python",
   "pygments_lexer": "ipython3",
   "version": "3.11.5"
  }
 },
 "nbformat": 4,
 "nbformat_minor": 2
}
